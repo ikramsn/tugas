{
 "cells": [
  {
   "cell_type": "code",
   "execution_count": 8,
   "metadata": {},
   "outputs": [
    {
     "name": "stdout",
     "output_type": "stream",
     "text": [
      "Nama  : Abdul Shabur N. I.\n",
      "Kelas : TI 22E\n",
      "NIM   : 20220040150\n",
      "\n",
      "\n",
      "X = 16 = 00010000\n",
      "Y = 32 = 00100000 \n",
      "\n",
      "[AND]\n",
      "00010000 & 00100000 = 00000000\n",
      "X & Y = 0\n",
      "==============================\n",
      "[OR]\n",
      "00010000 | 00100000 = 00110000\n",
      "X | Y = 48\n",
      "==============================\n",
      "[NOT]\n",
      "00010000 ~ 00100000 = -0010001 -0100001\n",
      "X ~ Y = -17 -33\n"
     ]
    }
   ],
   "source": [
    "nama = \"Abdul Shabur N. I.\" \n",
    "kelas = \"TI 22E\"\n",
    "nim = 20220040150\n",
    "\n",
    "print(\"Nama  :\",nama)\n",
    "print(\"Kelas :\",kelas)\n",
    "print(\"NIM   :\",nim)\n",
    "\n",
    "print(\"\\n\")\n",
    "X = 16\n",
    "Y = 32\n",
    "print('X =', X, '=', format(X, '08b')) \n",
    "print('Y =', Y, '=', format(Y, '08b'), '\\n')\n",
    "\n",
    "print('[AND]') \n",
    "print(format(X, '08b'), '&', format(Y, '08b'), '=', format(X & Y, '08b'),)\n",
    "print('X & Y =', X & Y)\n",
    "\n",
    "print(\"=\"*30)\n",
    "\n",
    "print('[OR]') \n",
    "print(format(X, '08b'), '|', format(Y, '08b'), '=', format(X | Y, '08b'),)\n",
    "print('X | Y =', X | Y)\n",
    "\n",
    "print(\"=\"*30)\n",
    "\n",
    "print('[NOT]') \n",
    "print('' + format(X, '08b'),'~ ' + format(Y, '08b'), '=', format(~X, '08b'), format(~Y, '08b'),)\n",
    "print('X ~ Y =', ~X, ~Y)"
   ]
  }
 ],
 "metadata": {
  "kernelspec": {
   "display_name": "Python 3",
   "language": "python",
   "name": "python3"
  },
  "language_info": {
   "codemirror_mode": {
    "name": "ipython",
    "version": 3
   },
   "file_extension": ".py",
   "mimetype": "text/x-python",
   "name": "python",
   "nbconvert_exporter": "python",
   "pygments_lexer": "ipython3",
   "version": "3.8.5"
  }
 },
 "nbformat": 4,
 "nbformat_minor": 4
}
