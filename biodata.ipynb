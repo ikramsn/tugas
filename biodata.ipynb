{
 "cells": [
  {
   "cell_type": "code",
   "execution_count": 30,
   "metadata": {},
   "outputs": [
    {
     "name": "stdout",
     "output_type": "stream",
     "text": [
      "\n",
      " Nama Lengkap =  ABDUL SHABUR NURHADI IKRAM (19)\n",
      " Dari =  BAROS JL.GARUDA \n",
      " Kata Mutiara =  MENUJU TAK TERBATAS DAN MELAMPAUINYA\n",
      "==============================================================================================\n",
      " Tipe data dari nama_depan =  <class 'str'>\n",
      " Tipe data dari nama_belakang =  <class 'str'>\n",
      " Tipe data dari usia =  <class 'str'>\n",
      " Tipe data dari alamat =  <class 'str'>\n",
      " Tipe data dari kata_mutiara =  <class 'str'>\n"
     ]
    }
   ],
   "source": [
    "nama_depan = \"ABDUL SHABUR\"\n",
    "nama_belakang = \"NURHADI IKRAM\"\n",
    "nama_lengkap = nama_depan + ' ' + nama_belakang\n",
    "usia = \"19\"\n",
    "alamat = \"BAROS JL.GARUDA\"\n",
    "kata_mutiara = \"MENUJU TAK TERBATAS DAN MELAMPAUINYA\"\n",
    "\n",
    "print(\"\\n Nama Lengkap = \",nama_lengkap,'(' + usia + ')' \"\\n Dari = \",alamat ,\"\\n Kata Mutiara = \",kata_mutiara)\n",
    "\n",
    "print(\"==============================================================================================\")\n",
    "\n",
    "print(\" Tipe data dari nama_depan = \",type(nama_depan))\n",
    "print(\" Tipe data dari nama_belakang = \",type(nama_belakang))\n",
    "print(\" Tipe data dari usia = \",type(usia))\n",
    "print(\" Tipe data dari alamat = \",type(alamat))\n",
    "print(\" Tipe data dari kata_mutiara = \",type(kata_mutiara))\n"
   ]
  }
 ],
 "metadata": {
  "kernelspec": {
   "display_name": "Python 3",
   "language": "python",
   "name": "python3"
  },
  "language_info": {
   "codemirror_mode": {
    "name": "ipython",
    "version": 3
   },
   "file_extension": ".py",
   "mimetype": "text/x-python",
   "name": "python",
   "nbconvert_exporter": "python",
   "pygments_lexer": "ipython3",
   "version": "3.8.5"
  }
 },
 "nbformat": 4,
 "nbformat_minor": 4
}
